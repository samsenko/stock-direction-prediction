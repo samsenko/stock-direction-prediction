{
 "cells": [
  {
   "cell_type": "markdown",
   "metadata": {},
   "source": [
    "***Import Modules***"
   ]
  },
  {
   "cell_type": "code",
   "execution_count": 9,
   "metadata": {},
   "outputs": [],
   "source": [
    "import pandas as pd\n",
    "import numpy as np\n",
    "from pyts.decomposition import SSA\n",
    "from sklearn import svm\n",
    "from sklearn.decomposition import PCA\n",
    "from statsmodels.tsa.api import ExponentialSmoothing\n",
    "from sklearn.ensemble import RandomForestClassifier, GradientBoostingClassifier\n",
    "from sklearn.metrics import confusion_matrix\n",
    "from sklearn.model_selection import train_test_split\n",
    "from sklearn.preprocessing import StandardScaler\n",
    "from sklearn.metrics import precision_recall_curve\n",
    "from sklearn.utils.fixes import signature\n",
    "from sklearn.metrics import average_precision_score\n",
    "from scipy import stats\n",
    "from imblearn.over_sampling import SMOTE, ADASYN, RandomOverSampler\n",
    "import matplotlib.pyplot as plt\n",
    "import itertools\n",
    "import os"
   ]
  },
  {
   "cell_type": "markdown",
   "metadata": {},
   "source": [
    "***Load in data for various companies***"
   ]
  },
  {
   "cell_type": "code",
   "execution_count": 96,
   "metadata": {},
   "outputs": [],
   "source": [
    "#Companies: AAPL GOOG, FB, IBM, BB, MSFT, SAMSUNG\n",
    "dataframes = [pd.read_csv('AAPL.csv'), pd.read_csv('GOOG.csv'), pd.read_csv('FB.csv'), pd.read_csv('IBM.csv'), pd.read_csv('BB.csv'), pd.read_csv('MSFT.csv'), pd.read_csv('SAMSUNG.csv')]\n",
    "data = [df.values for df in dataframes]\n"
   ]
  },
  {
   "cell_type": "markdown",
   "metadata": {},
   "source": [
    "***Feature engineering and train test split***"
   ]
  },
  {
   "cell_type": "code",
   "execution_count": 11,
   "metadata": {},
   "outputs": [],
   "source": [
    "#REQUIREMENTS: LONG_MA_LENGTH > SHORT_MA_LENGTH (Important Note: the inequality is strict).\n",
    "#              LONG_MA_LENGTH >= MOMENTUM_PERIOD\n",
    "#              LONG_MA_LENGTH >= VOLUME_PERIOD\n",
    "\n",
    "DAYS_AHEAD = 90 #How far ahead you are predicting\n",
    "SHORT_MA_LENGTH = 14\n",
    "LONG_MA_LENGTH = 90\n",
    "MOMENTUM_PERIOD = 14\n",
    "VOLUME_PERIOD = 30\n",
    "\n",
    "train_data = np.array([]).reshape(0,9) #Second value equals number of features\n",
    "test_data = np.array([]).reshape(0,9)\n",
    "for company in data:\n",
    "    company_data = []\n",
    "    closes = (company.T)[4]\n",
    "    \n",
    "    company_data.append(closes[LONG_MA_LENGTH:company.shape[0]-DAYS_AHEAD])\n",
    "    \n",
    "    #Get Short-Term Moving Averages\n",
    "    mas = []\n",
    "    for i in range(LONG_MA_LENGTH-1, company.shape[0]-DAYS_AHEAD):\n",
    "        ma = sum([closes[j] for j in range(i-SHORT_MA_LENGTH+1, i)])/SHORT_MA_LENGTH #average close of last SHORT_MA_LENGTH days\n",
    "        mas.append(ma)\n",
    "    mas = np.array(mas)\n",
    "    company_data.append(mas[1:])\n",
    "    \n",
    "    #Get Changes in Short-Term Moving Average\n",
    "    delta_mas = []\n",
    "    for i in range(company.shape[0]-LONG_MA_LENGTH-DAYS_AHEAD):\n",
    "        delta_mas.append(mas[i+1]-mas[i]) #todays MA minus yesterdays MA\n",
    "    delta_mas = np.array(delta_mas)\n",
    "    company_data.append(delta_mas)\n",
    "    \n",
    "    #Get Long-Term Moving Averages\n",
    "    mas = []\n",
    "    for i in range(LONG_MA_LENGTH-1, company.shape[0]-DAYS_AHEAD):\n",
    "        ma = sum([closes[j] for j in range(i-LONG_MA_LENGTH+1, i)])/LONG_MA_LENGTH #average close of last LONG_MA_LENGTH days\n",
    "        mas.append(ma)\n",
    "    mas = np.array(mas)\n",
    "    company_data.append(mas[:-1])\n",
    "    \n",
    "    #Get Changes in Long-Term Moving Average\n",
    "    delta_mas = []\n",
    "    for i in range(company.shape[0]-LONG_MA_LENGTH-DAYS_AHEAD):\n",
    "        delta_mas.append(mas[i+1]-mas[i]) #todays MA minus yesterdays MA\n",
    "    delta_mas = np.array(delta_mas)\n",
    "    company_data.append(delta_mas)\n",
    "    \n",
    "    #Get Momentums\n",
    "    momentums = []\n",
    "    for i in range(LONG_MA_LENGTH, company.shape[0]-DAYS_AHEAD):\n",
    "        momentum = closes[i] - closes[i - MOMENTUM_PERIOD]\n",
    "        momentums.append(momentum)\n",
    "    momentums = np.array(momentums)\n",
    "    company_data.append(momentums)\n",
    "    \n",
    "    #Get RSI\n",
    "    RSIs = []\n",
    "    for i in range(LONG_MA_LENGTH, company.shape[0]-DAYS_AHEAD):\n",
    "        up_closes = [closes[j] for j in range(i-MOMENTUM_PERIOD, i) if closes[j] > closes[j-1]]\n",
    "        down_closes = [closes[j] for j in range(i-MOMENTUM_PERIOD, i) if closes[j] < closes[j-1]]\n",
    "        try:\n",
    "            RS = (sum(up_closes) * len(down_closes)) / (sum(down_closes) * len(up_closes))\n",
    "        except ZeroDivisionError:\n",
    "            RS = 0\n",
    "        RSI = 100 - 100 / (1 + RS)\n",
    "        RSIs.append(RSI)\n",
    "    RSIs = np.array(RSIs)\n",
    "    company_data.append(RSIs)\n",
    "    \n",
    "    #Get Volumes\n",
    "    volumes = []\n",
    "    for i in range(LONG_MA_LENGTH, company.shape[0]-DAYS_AHEAD):\n",
    "        volume = sum(company.T[-1][i-VOLUME_PERIOD:i]) / VOLUME_PERIOD\n",
    "        volumes.append(volume)\n",
    "    volumes = np.array(volumes)\n",
    "    company_data.append(volumes)\n",
    "    \n",
    "    #Get directions\n",
    "    directions = []\n",
    "    for i in range(LONG_MA_LENGTH, company.shape[0]-DAYS_AHEAD):\n",
    "        diff = closes[i+DAYS_AHEAD] - closes[i]\n",
    "        if diff > 0:\n",
    "            directions.append('up') #increase in price\n",
    "        else:\n",
    "            directions.append('down') #decrease in price\n",
    "    directions = np.array(directions)\n",
    "    company_data.append(directions)\n",
    "    \n",
    "    company_data = np.array(company_data).T\n",
    "    \n",
    "    \n",
    "    #Train Test Split\n",
    "    length = company_data.shape[0]\n",
    "    test_data = np.vstack((test_data, company_data[int(0.8*length):]))\n",
    "    train_data = np.vstack((train_data, company_data[:int(0.8*length)]))\n",
    "    "
   ]
  },
  {
   "cell_type": "code",
   "execution_count": 12,
   "metadata": {},
   "outputs": [
    {
     "data": {
      "text/plain": [
       "array([['2014-03-21', 75.989998, 76.25, ..., 76.12428299999999,\n",
       "        67.315308, 93511600],\n",
       "       ['2014-03-24', 76.91714499999999, 77.214287, ...,\n",
       "        77.02714499999999, 68.113724, 88925200],\n",
       "       ['2014-03-25', 77.35714, 77.964287, ..., 77.855713, 68.846397,\n",
       "        70573300],\n",
       "       ...,\n",
       "       ['2019-03-19', 188.350006, 188.990005, ..., 186.529999,\n",
       "        186.529999, 31646400],\n",
       "       ['2019-03-20', 186.229996, 189.490005, ..., 188.16000400000001,\n",
       "        188.16000400000001, 31035200],\n",
       "       ['2019-03-21', 190.020004, 196.330002, ..., 195.08999599999999,\n",
       "        195.08999599999999, 50980100]], dtype=object)"
      ]
     },
     "execution_count": 12,
     "metadata": {},
     "output_type": "execute_result"
    }
   ],
   "source": [
    "data[0]"
   ]
  },
  {
   "cell_type": "code",
   "execution_count": 13,
   "metadata": {},
   "outputs": [
    {
     "data": {
      "text/plain": [
       "((5989, 9), (1499, 9))"
      ]
     },
     "execution_count": 13,
     "metadata": {},
     "output_type": "execute_result"
    }
   ],
   "source": [
    "train_data.shape, test_data.shape"
   ]
  },
  {
   "cell_type": "markdown",
   "metadata": {},
   "source": [
    "***Scaling and Oversampling***"
   ]
  },
  {
   "cell_type": "code",
   "execution_count": 14,
   "metadata": {},
   "outputs": [],
   "source": [
    "train_xs = train_data.T[:-1].T\n",
    "train_ys = train_data.T[-1]\n",
    "scaler = StandardScaler()\n",
    "train_xs = scaler.fit_transform(train_xs.astype(np.float))\n",
    "\n",
    "test_xs = test_data.T[:-1].T\n",
    "test_ys = test_data.T[-1]\n",
    "test_xs = scaler.fit_transform(test_xs.astype(np.float))\n",
    "\n",
    "smote = SMOTE(random_state = 1729)\n",
    "train_xs, train_ys = smote.fit_resample(train_xs, train_ys)"
   ]
  },
  {
   "cell_type": "markdown",
   "metadata": {},
   "source": [
    "***Train Model***"
   ]
  },
  {
   "cell_type": "code",
   "execution_count": 15,
   "metadata": {},
   "outputs": [
    {
     "data": {
      "text/plain": [
       "SVC(C=1, cache_size=1000, class_weight=None, coef0=0.0,\n",
       "  decision_function_shape='ovr', degree=3, gamma='scale', kernel='rbf',\n",
       "  max_iter=-1, probability=True, random_state=42, shrinking=True,\n",
       "  tol=0.001, verbose=False)"
      ]
     },
     "execution_count": 15,
     "metadata": {},
     "output_type": "execute_result"
    }
   ],
   "source": [
    "clf = svm.SVC(C = 1, gamma = 'scale', kernel = 'rbf', random_state = 42, probability = True, cache_size = 1000)\n",
    "clf.fit(train_xs, train_ys)"
   ]
  },
  {
   "cell_type": "markdown",
   "metadata": {},
   "source": [
    "***Get Accuracy (current: accuracy = 62%, up: recall = 59%, precision = 63%, f1 = 61%, down: recall = 66%, precision = 62%, f1 = 64%)***"
   ]
  },
  {
   "cell_type": "code",
   "execution_count": 16,
   "metadata": {},
   "outputs": [
    {
     "name": "stdout",
     "output_type": "stream",
     "text": [
      "down pred: 790 up pred: 709\n",
      "down test: 889 up test: 610\n",
      "Out of a total of 1499 samples, 920 were correct\n"
     ]
    }
   ],
   "source": [
    "pred = clf.predict(test_xs)\n",
    "total = test_ys.shape[0]\n",
    "correct = len([x for x in pred==test_ys if x==True])\n",
    "print('down pred:', len([i for i in pred if i == 'down']), 'up pred:', len([i for i in pred if i == 'up']))\n",
    "print('down test:', len([i for i in test_ys if i == 'down']), 'up test:', len([i for i in test_ys if i == 'up']))\n",
    "print(\"Out of a total of %d samples, %d were correct\" %(total, correct))"
   ]
  },
  {
   "cell_type": "markdown",
   "metadata": {},
   "source": [
    "***Plot Confusion Matrix***"
   ]
  },
  {
   "cell_type": "code",
   "execution_count": 17,
   "metadata": {},
   "outputs": [
    {
     "name": "stdout",
     "output_type": "stream",
     "text": [
      "Normalized confusion matrix\n",
      "[[0.61867267 0.38132733]\n",
      " [0.39344262 0.60655738]]\n"
     ]
    },
    {
     "data": {
      "image/png": "[encoded data removed]",
      "text/plain": [
       "<Figure size 432x288 with 2 Axes>"
      ]
     },
     "metadata": {
      "needs_background": "light"
     },
     "output_type": "display_data"
    }
   ],
   "source": [
    "def plot_confusion_matrix(cm, classes,\n",
    "                          normalize=False,\n",
    "                          title='Confusion matrix',\n",
    "                          cmap=plt.cm.Blues):\n",
    "    \"\"\"\n",
    "    This function prints and plots the confusion matrix.\n",
    "    Normalization can be applied by setting `normalize=True`.\n",
    "    \"\"\"\n",
    "    if normalize:\n",
    "        cm = cm.astype('float') / cm.sum(axis=1)[:, np.newaxis]\n",
    "        print(\"Normalized confusion matrix\")\n",
    "    else:\n",
    "        print('Confusion matrix, without normalization')\n",
    "\n",
    "    print(cm)\n",
    "\n",
    "    plt.imshow(cm, interpolation='nearest', cmap=cmap)\n",
    "    plt.title(title)\n",
    "    plt.colorbar()\n",
    "    tick_marks = np.arange(len(classes))\n",
    "    plt.xticks(tick_marks, classes, rotation=45)\n",
    "    plt.yticks(tick_marks, classes)\n",
    "\n",
    "    fmt = '.2f' if normalize else 'd'\n",
    "    thresh = cm.max() / 2.\n",
    "    for i, j in itertools.product(range(cm.shape[0]), range(cm.shape[1])):\n",
    "        plt.text(j, i, format(cm[i, j], fmt),\n",
    "                 horizontalalignment=\"center\",\n",
    "                 color=\"white\" if cm[i, j] > thresh else \"black\")\n",
    "\n",
    "    plt.ylabel('True label')\n",
    "    plt.xlabel('Predicted label')\n",
    "    plt.tight_layout()\n",
    "\n",
    "cnf_matrix = confusion_matrix(test_ys, pred)\n",
    "plt.figure()\n",
    "plot_confusion_matrix(cnf_matrix, classes=['up', 'down'], normalize=True)"
   ]
  },
  {
   "cell_type": "markdown",
   "metadata": {},
   "source": [
    "***Precision-Recall Curve (with validation data)***"
   ]
  },
  {
   "cell_type": "code",
   "execution_count": 18,
   "metadata": {},
   "outputs": [
    {
     "name": "stdout",
     "output_type": "stream",
     "text": [
      "Average precision-recall score: 0.50\n"
     ]
    },
    {
     "data": {
      "text/plain": [
       "Text(0.5,1,'2-class Precision-Recall curve: AP=0.50')"
      ]
     },
     "execution_count": 18,
     "metadata": {},
     "output_type": "execute_result"
    },
    {
     "data": {
      "image/png": "[encoded data removed]",
      "text/plain": [
       "<Figure size 432x288 with 1 Axes>"
      ]
     },
     "metadata": {
      "needs_background": "light"
     },
     "output_type": "display_data"
    }
   ],
   "source": [
    "y_score = clf.predict_proba(test_xs).T[1]\n",
    "average_precision = average_precision_score(test_ys, y_score, pos_label = 'up')\n",
    "print('Average precision-recall score: {0:0.2f}'.format(\n",
    "      average_precision))\n",
    "precision, recall, thresholds = precision_recall_curve(test_ys, y_score, pos_label = 'up')\n",
    "step_kwargs = ({'step': 'post'}\n",
    "               if 'step' in signature(plt.fill_between).parameters\n",
    "               else {})\n",
    "plt.step(recall, precision, color='b', alpha=0.2,\n",
    "         where='post')\n",
    "plt.fill_between(recall, precision, alpha=0.2, color='b', **step_kwargs)\n",
    "\n",
    "plt.xlabel('Recall')\n",
    "plt.ylabel('Precision')\n",
    "plt.ylim([0.0, 1.0])\n",
    "plt.xlim([0.0, 1.0])\n",
    "plt.title('2-class Precision-Recall curve: AP={0:0.2f}'.format(\n",
    "          average_precision))"
   ]
  },
  {
   "cell_type": "code",
   "execution_count": 19,
   "metadata": {},
   "outputs": [
    {
     "data": {
      "text/plain": [
       "(0.5301692654965982, 0.20429058420326016)"
      ]
     },
     "execution_count": 19,
     "metadata": {},
     "output_type": "execute_result"
    }
   ],
   "source": [
    "probabilities = clf.predict_proba(test_xs).T[1]\n",
    "np.mean(probabilities), np.std(probabilities)"
   ]
  },
  {
   "cell_type": "markdown",
   "metadata": {},
   "source": [
    "***Accuracies when probability is at least 1 SD away from the mean***"
   ]
  },
  {
   "cell_type": "code",
   "execution_count": 20,
   "metadata": {},
   "outputs": [
    {
     "name": "stdout",
     "output_type": "stream",
     "text": [
      "down pred: 367 up pred: 427\n",
      "down test: 498 up test: 296\n",
      "Out of a total of 794 samples, 551 were correct\n",
      "Normalized confusion matrix\n",
      "[[0.62449799 0.37550201]\n",
      " [0.18918919 0.81081081]]\n"
     ]
    },
    {
     "data": {
      "image/png": "[encoded data removed]",
      "text/plain": [
       "<Figure size 432x288 with 2 Axes>"
      ]
     },
     "metadata": {
      "needs_background": "light"
     },
     "output_type": "display_data"
    }
   ],
   "source": [
    "conf_preds = []\n",
    "conf_test = []\n",
    "for i in range(len(probabilities)):\n",
    "    proba = probabilities[i]\n",
    "    if abs(proba - np.mean(probabilities)) >= np.std(probabilities):\n",
    "        conf_preds.append(pred[i])\n",
    "        conf_test.append(test_ys[i])\n",
    "conf_preds = np.array(conf_preds); conf_test = np.array(conf_test)\n",
    "total = conf_test.shape[0]\n",
    "correct = len([x for x in conf_preds==conf_test if x==True])\n",
    "print('down pred:', len([i for i in conf_preds if i == 'down']), 'up pred:', len([i for i in conf_preds if i == 'up']))\n",
    "print('down test:', len([i for i in conf_test if i == 'down']), 'up test:', len([i for i in conf_test if i == 'up']))\n",
    "print(\"Out of a total of %d samples, %d were correct\" %(total, correct))\n",
    "\n",
    "cnf_matrix = confusion_matrix(conf_test, conf_preds)\n",
    "plt.figure()\n",
    "plot_confusion_matrix(cnf_matrix, classes=['up', 'down'], normalize=True)\n"
   ]
  },
  {
   "cell_type": "markdown",
   "metadata": {},
   "source": [
    "***An alternate approach: use many lag variables and reduce dimensions with PCA***"
   ]
  },
  {
   "cell_type": "code",
   "execution_count": 102,
   "metadata": {},
   "outputs": [
    {
     "name": "stdout",
     "output_type": "stream",
     "text": [
      "0.9976187307425705\n"
     ]
    }
   ],
   "source": [
    "#Short-term trading:\n",
    "#DAYS_AHEAD = 7\n",
    "#FEATURES = 10\n",
    "#MEAN_LENGTH = 2\n",
    "#JUMP = 1\n",
    "#n_components = 10\n",
    "\n",
    "#Mid-term trading:\n",
    "#DAYS_AHEAD = 90\n",
    "#FEATURES = 90\n",
    "#MEAN_LENGTH = 10\n",
    "#JUMP = 3\n",
    "#n_components = 10\n",
    "\n",
    "DAYS_AHEAD = 90\n",
    "FEATURES = 90\n",
    "MEAN_LENGTH = 10\n",
    "JUMP = 3\n",
    "\n",
    "complete_data = np.array([]).reshape((0, FEATURES // JUMP))\n",
    "labels = np.array([])\n",
    "\n",
    "#First process the first 80% of each company's data. This will be the train set.\n",
    "for company in data:\n",
    "    length = company.shape[0] - DAYS_AHEAD - FEATURES - MEAN_LENGTH\n",
    "    closes = (company.T)[4]\n",
    "    \n",
    "    #Smooth using running mean   \n",
    "    closes = np.convolve(closes, np.ones((MEAN_LENGTH,))/MEAN_LENGTH, mode='valid')\n",
    "    \n",
    "    company_data = []\n",
    "    for i in range(FEATURES+MEAN_LENGTH, int(0.8*length)+FEATURES):\n",
    "        company_data.append(closes[i - FEATURES : i : JUMP])\n",
    "    company_data = np.array(company_data)\n",
    "    scaler = StandardScaler()\n",
    "    company_data = scaler.fit_transform(company_data.astype(np.float))\n",
    "    complete_data = np.vstack((complete_data, company_data))\n",
    "    \n",
    "    directions = []\n",
    "    for i in range(FEATURES+MEAN_LENGTH, int(0.8*length)+FEATURES):\n",
    "        diff = closes[i+DAYS_AHEAD] - closes[i]\n",
    "        if diff > 0:\n",
    "            directions.append('up') #increase in price\n",
    "        else:\n",
    "            directions.append('down') #decrease in price\n",
    "    directions = np.array(directions)\n",
    "    \n",
    "    labels = np.concatenate((labels, directions), axis = None)\n",
    "    \n",
    "#Now process the remaining 20% (test data)\n",
    "for company in data:\n",
    "    length = company.shape[0] - DAYS_AHEAD - FEATURES - MEAN_LENGTH\n",
    "    closes = (company.T)[4]\n",
    "    \n",
    "    #Smooth using running mean   \n",
    "    closes = np.convolve(closes, np.ones((MEAN_LENGTH,))/MEAN_LENGTH, mode='valid')\n",
    "    \n",
    "    company_data = []\n",
    "    for i in range(int(0.8*length)+FEATURES, (company.shape[0] - DAYS_AHEAD - MEAN_LENGTH - 1)):\n",
    "        company_data.append(closes[i - FEATURES : i : JUMP])\n",
    "    company_data = np.array(company_data)\n",
    "    scaler = StandardScaler()\n",
    "    company_data = scaler.fit_transform(company_data.astype(np.float))\n",
    "    complete_data = np.concatenate((complete_data, company_data))\n",
    "    \n",
    "    directions = []\n",
    "    for i in range(int(0.8*length)+FEATURES, (company.shape[0] - DAYS_AHEAD - MEAN_LENGTH - 1)):\n",
    "        diff = closes[i+DAYS_AHEAD] - closes[i]\n",
    "        if diff > 0:\n",
    "            directions.append('up') #increase in price\n",
    "        else:\n",
    "            directions.append('down') #decrease in price\n",
    "    directions = np.array(directions)\n",
    "    \n",
    "    labels = np.concatenate((labels, directions), axis = None)\n",
    "\n",
    "#Apply PCA\n",
    "pca = PCA(n_components = 10, random_state = 1729)\n",
    "transformed_data = pca.fit_transform(complete_data)\n",
    "print(np.sum(pca.explained_variance_ratio_))"
   ]
  },
  {
   "cell_type": "code",
   "execution_count": 103,
   "metadata": {},
   "outputs": [],
   "source": [
    "train_xs = transformed_data[:int(0.8*transformed_data.shape[0])]\n",
    "train_ys = labels[:int(0.8*transformed_data.shape[0])]\n",
    "\n",
    "test_xs = transformed_data[int(0.8*transformed_data.shape[0]):]\n",
    "test_ys = labels[int(0.8*transformed_data.shape[0]):]\n",
    "\n",
    "smote = SMOTE(random_state = 1729)\n",
    "train_xs, train_ys = smote.fit_resample(train_xs, train_ys)"
   ]
  },
  {
   "cell_type": "code",
   "execution_count": 104,
   "metadata": {},
   "outputs": [
    {
     "data": {
      "text/plain": [
       "SVC(C=5, cache_size=1000, class_weight=None, coef0=0.0,\n",
       "  decision_function_shape='ovr', degree=3, gamma='scale', kernel='rbf',\n",
       "  max_iter=-1, probability=True, random_state=42, shrinking=True,\n",
       "  tol=0.001, verbose=False)"
      ]
     },
     "execution_count": 104,
     "metadata": {},
     "output_type": "execute_result"
    }
   ],
   "source": [
    "MODEL = 'SVC'\n",
    "\n",
    "if MODEL == 'SVC':\n",
    "    clf = svm.SVC(C = 5, gamma = 'scale', kernel = 'rbf', random_state = 42, probability = True, cache_size = 1000)\n",
    "elif MODEL == 'GBC':\n",
    "    clf = GradientBoostingClassifier(learning_rate = 0.01, n_estimators = 1000, random_state = 42)\n",
    "\n",
    "clf.fit(train_xs, train_ys)\n"
   ]
  },
  {
   "cell_type": "markdown",
   "metadata": {},
   "source": [
    "***Current: accuracy = 65%, up: recall = 73%, precision = 61%, f1 = 66%, down: recall = 53%, precision = 66%, f1 = 59%***"
   ]
  },
  {
   "cell_type": "code",
   "execution_count": 105,
   "metadata": {},
   "outputs": [
    {
     "name": "stdout",
     "output_type": "stream",
     "text": [
      "down pred: 862 up pred: 607\n",
      "down test: 895 up test: 574\n",
      "Out of a total of 1469 samples, 928 were correct\n",
      "Normalized confusion matrix\n",
      "[[0.67932961 0.32067039]\n",
      " [0.44250871 0.55749129]]\n"
     ]
    },
    {
     "data": {
      "image/png": "[encoded data removed]",
      "text/plain": [
       "<Figure size 432x288 with 2 Axes>"
      ]
     },
     "metadata": {
      "needs_background": "light"
     },
     "output_type": "display_data"
    }
   ],
   "source": [
    "pred = clf.predict(test_xs)\n",
    "total = test_ys.shape[0]\n",
    "correct = len([x for x in pred==test_ys if x==True])\n",
    "print('down pred:', len([i for i in pred if i == 'down']), 'up pred:', len([i for i in pred if i == 'up']))\n",
    "print('down test:', len([i for i in test_ys if i == 'down']), 'up test:', len([i for i in test_ys if i == 'up']))\n",
    "print(\"Out of a total of %d samples, %d were correct\" %(total, correct))\n",
    "cnf_matrix = confusion_matrix(test_ys, pred)\n",
    "plt.figure()\n",
    "plot_confusion_matrix(cnf_matrix, classes=['up', 'down'], normalize=True)"
   ]
  },
  {
   "cell_type": "code",
   "execution_count": 106,
   "metadata": {},
   "outputs": [
    {
     "data": {
      "text/plain": [
       "(0.3914917936244604, 0.37742026222849234)"
      ]
     },
     "execution_count": 106,
     "metadata": {},
     "output_type": "execute_result"
    }
   ],
   "source": [
    "probabilities = clf.predict_proba(test_xs).T[1]\n",
    "np.mean(probabilities), np.std(probabilities)"
   ]
  },
  {
   "cell_type": "markdown",
   "metadata": {},
   "source": [
    "***Statistical Tests of Model Performance***"
   ]
  },
  {
   "cell_type": "code",
   "execution_count": 90,
   "metadata": {},
   "outputs": [
    {
     "name": "stdout",
     "output_type": "stream",
     "text": [
      "result for up precisions against always up: KruskalResult(statistic=0.4102564102564159, pvalue=0.5218393903336124)\n",
      "result for up precisions against random: KruskalResult(statistic=8.307692307692314, pvalue=0.003947751856903446)\n",
      "result for up precisions against trend: KruskalResult(statistic=0.1025641025641093, pvalue=0.7487740417065392)\n",
      " \n",
      "result for down precisions against always down: KruskalResult(statistic=4.333333333333336, pvalue=0.0373729883406513)\n",
      "result for down precisions against random: KruskalResult(statistic=3.6923076923076934, pvalue=0.054663935891675085)\n",
      "result for down precisions against trend: KruskalResult(statistic=0.0, pvalue=1.0)\n",
      " \n",
      "*********************************************************************************************************************\n",
      " \n",
      "result for up precisions against always up: KruskalResult(statistic=0.4102564102564159, pvalue=0.5218393903336124)\n",
      "result for up precisions against random: KruskalResult(statistic=8.307692307692314, pvalue=0.003947751856903446)\n",
      "result for up precisions against trend: KruskalResult(statistic=2.564102564102569, pvalue=0.10931457620866666)\n",
      " \n",
      "result for down precisions against always down: KruskalResult(statistic=8.307692307692314, pvalue=0.003947751856903446)\n",
      "result for down precisions against random: KruskalResult(statistic=7.410256410256409, pvalue=0.006485307970671373)\n",
      "result for down precisions against trend: KruskalResult(statistic=2.3222222222222273, pvalue=0.12753770929748695)\n"
     ]
    }
   ],
   "source": [
    "#Statistical tests for mid-term trading\n",
    "up_prec_random = np.array([0.5/1.01, 0.49, 0.54/1.04, 0.55/1.05, 0.52/1.02, 0.5])\n",
    "up_prec_always_up = np.array([843/1332, 845/1333, 639/1332, 1165/1333, 1134/1332, 471/1333])\n",
    "up_prec_trend = np.array([0.67/1.08, 0.61/1.06, 0.58/0.96, 0.74/1.21, 0.63/1.08, 0.57/0.9])\n",
    "up_prec_svc = np.array([0.71/1.13, 0.31/0.54, 0.55/0.93, 0.54/0.95, 0.61, 0.74/1.03])\n",
    "print(\"result for up precisions against always up:\", stats.kruskal(up_prec_always_up, up_prec_svc)) \n",
    "print(\"result for up precisions against random:\", stats.kruskal(up_prec_random, up_prec_svc)) \n",
    "print(\"result for up precisions against trend:\", stats.kruskal(up_prec_trend, up_prec_svc)) \n",
    "print(\" \")\n",
    "\n",
    "down_prec_random = np.array([0.5/0.99, 0.51, 0.5/0.96, 0.5/0.95, 0.5/0.98, 0.5])\n",
    "down_prec_always_down = np.array([489/1332, 488/1333, 693/1332, 168/1333, 198/1332, 862/1333])\n",
    "down_prec_trend = np.array([0.58/0.84, 0.77/1.46, 0.62/1.04, 0.53/0.79, 0.55/0.92, 0.67/1.1])\n",
    "down_prec_svc = np.array([0.6/0.84, 0.77/1.56, 0.62/1.07, 0.59/1.05, 0.61, 0.71/0.97])\n",
    "print(\"result for down precisions against always down:\", stats.kruskal(down_prec_always_down, down_prec_svc)) \n",
    "print(\"result for down precisions against random:\", stats.kruskal(down_prec_random, down_prec_svc)) \n",
    "print(\"result for down precisions against trend:\", stats.kruskal(down_prec_trend, down_prec_svc)) \n",
    "print(\" \")\n",
    "print(\"*********************************************************************************************************************\")\n",
    "print(\" \")\n",
    "\n",
    "#Statistical tests for short-term trading\n",
    "up_prec_random = np.array([0.49/0.99, 0.5, 0.52/1.05, 0.5/1.01, 0.51/0.98, 0.51/1.01])\n",
    "up_prec_always_up = np.array([850/1577, 829/1578, 786/1577, 941/1578, 904/1577, 862/1578])\n",
    "up_prec_trend = [0.53, 0.53/0.99, 0.49/0.95, 0.57/1.01, 0.53/1.01, 0.56/1.07]\n",
    "up_prec_svc = np.array([0.57/1.04, 0.61/1.06, 0.61/1.05, 0.46/0.88, 0.54/1.01, 0.46/0.8])\n",
    "print(\"result for up precisions against always up:\", stats.kruskal(up_prec_always_up, up_prec_svc)) \n",
    "print(\"result for up precisions against random:\", stats.kruskal(up_prec_random, up_prec_svc)) \n",
    "print(\"result for up precisions against trend:\", stats.kruskal(up_prec_trend, up_prec_svc)) \n",
    "print(\" \")\n",
    "\n",
    "down_prec_random = np.array([0.49/1.01, 0.5, 0.47/0.95, 0.49/0.99, 0.53/1.02, 0.5/0.99])\n",
    "down_prec_always_down = np.array([727/1577, 749/1578, 791/1577, 637/1578, 673/1577, 716/1578])\n",
    "down_prec_trend = [0.53, 0.54/1.01, 0.54/1.05, 0.56/0.99, 0.53/0.99, 0.49/0.93]\n",
    "down_prec_svc = np.array([0.53/0.96, 0.55/0.94, 0.56/0.95, 0.58/1.12, 0.53/0.99, 0.66/1.2])\n",
    "print(\"result for down precisions against always down:\", stats.kruskal(down_prec_always_down, down_prec_svc)) \n",
    "print(\"result for down precisions against random:\", stats.kruskal(down_prec_random, down_prec_svc)) \n",
    "print(\"result for down precisions against trend:\", stats.kruskal(down_prec_trend, down_prec_svc)) \n"
   ]
  },
  {
   "cell_type": "code",
   "execution_count": null,
   "metadata": {},
   "outputs": [],
   "source": []
  }
 ],
 "metadata": {
  "kernelspec": {
   "display_name": "Python 3",
   "language": "python",
   "name": "python3"
  },
  "language_info": {
   "codemirror_mode": {
    "name": "ipython",
    "version": 3
   },
   "file_extension": ".py",
   "mimetype": "text/x-python",
   "name": "python",
   "nbconvert_exporter": "python",
   "pygments_lexer": "ipython3",
   "version": "3.5.2"
  }
 },
 "nbformat": 4,
 "nbformat_minor": 2
}
