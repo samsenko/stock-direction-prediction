{
 "cells": [
  {
   "cell_type": "markdown",
   "metadata": {},
   "source": [
    "***Import Modules***"
   ]
  },
  {
   "cell_type": "code",
   "execution_count": 214,
   "metadata": {},
   "outputs": [],
   "source": [
    "import pandas as pd\n",
    "import numpy as np\n",
    "from sklearn import svm\n",
    "from sklearn.metrics import confusion_matrix\n",
    "from sklearn.model_selection import train_test_split\n",
    "from sklearn.preprocessing import StandardScaler\n",
    "from sklearn.metrics import precision_recall_curve\n",
    "from sklearn.utils.fixes import signature\n",
    "from sklearn.metrics import average_precision_score\n",
    "from imblearn.over_sampling import SMOTE, ADASYN\n",
    "import matplotlib.pyplot as plt\n",
    "import itertools\n",
    "import os"
   ]
  },
  {
   "cell_type": "markdown",
   "metadata": {},
   "source": [
    "***Load in data for various companies***"
   ]
  },
  {
   "cell_type": "code",
   "execution_count": 2,
   "metadata": {},
   "outputs": [],
   "source": [
    "#Companies: AAPL, GOOG, FB, IBM, BB, MSFT, SAMSUNG\n",
    "dataframes = [pd.read_csv('AAPL.csv'), pd.read_csv('GOOG.csv'), pd.read_csv('FB.csv'), pd.read_csv('IBM.csv'), pd.read_csv('BB.csv'), pd.read_csv('MSFT.csv'), pd.read_csv('SAMSUNG.csv')]\n",
    "data = [df.values for df in dataframes]"
   ]
  },
  {
   "cell_type": "markdown",
   "metadata": {},
   "source": [
    "***Feature engineering***"
   ]
  },
  {
   "cell_type": "code",
   "execution_count": 329,
   "metadata": {},
   "outputs": [],
   "source": [
    "#REQUIREMENTS: LONG_MA_LENGTH > SHORT_MA_LENGTH (Important Note: the inequality is strict).\n",
    "#              LONG_MA_LENGTH > MOMENTUM_PERIOD (Again strictly)\n",
    "\n",
    "DAYS_AHEAD = 90\n",
    "SHORT_MA_LENGTH = 30\n",
    "LONG_MA_LENGTH = 90\n",
    "MOMENTUM_PERIOD = 30\n",
    "\n",
    "processed_data = np.array([]).reshape(0,8) #Second value equals number of features\n",
    "for company in data:\n",
    "    company_data = []\n",
    "    closes = (company.T)[4]\n",
    "    \n",
    "    #Get Short-Term Moving Averages\n",
    "    mas = []\n",
    "    for i in range(DAYS_AHEAD, company.shape[0]-LONG_MA_LENGTH+1):\n",
    "        ma = sum([closes[j] for j in range(i+1, i+SHORT_MA_LENGTH)])/SHORT_MA_LENGTH #average close of last SHORT_MA_LENGTH days\n",
    "        mas.append(ma)\n",
    "    mas = np.array(mas)\n",
    "    company_data.append(mas[:-1])\n",
    "    \n",
    "    #Get Changes in Short-Term Moving Average\n",
    "    delta_mas = []\n",
    "    for i in range(company.shape[0]-LONG_MA_LENGTH-DAYS_AHEAD):\n",
    "        delta_mas.append(mas[i]-mas[i+1]) #todays MA minus yesterdays MA\n",
    "    delta_mas = np.array(delta_mas)\n",
    "    company_data.append(delta_mas)\n",
    "    \n",
    "    #Get Long-Term Moving Averages\n",
    "    mas = []\n",
    "    for i in range(DAYS_AHEAD, company.shape[0]-LONG_MA_LENGTH+1):\n",
    "        ma = sum([closes[j] for j in range(i+1, i+LONG_MA_LENGTH)])/LONG_MA_LENGTH #average close of last LONG_MA_LENGTH days\n",
    "        mas.append(ma)\n",
    "    mas = np.array(mas)\n",
    "    company_data.append(mas[:-1])\n",
    "    \n",
    "    #Get Changes in Long-Term Moving Average\n",
    "    delta_mas = []\n",
    "    for i in range(company.shape[0]-LONG_MA_LENGTH-DAYS_AHEAD):\n",
    "        delta_mas.append(mas[i]-mas[i+1]) #todays MA minus yesterdays MA\n",
    "    delta_mas = np.array(delta_mas)\n",
    "    company_data.append(delta_mas)\n",
    "    \n",
    "    #Get Momentums\n",
    "    momentums = []\n",
    "    for i in range(DAYS_AHEAD, company.shape[0]-LONG_MA_LENGTH):\n",
    "        momentum = closes[i] - closes[i + MOMENTUM_PERIOD]\n",
    "        momentums.append(momentum)\n",
    "    momentums = np.array(momentums)\n",
    "    company_data.append(momentums)\n",
    "    \n",
    "    #Get RSI\n",
    "    RSIs = []\n",
    "    for i in range(DAYS_AHEAD, company.shape[0]-LONG_MA_LENGTH):\n",
    "        up_closes = [closes[j] for j in range(i, i+MOMENTUM_PERIOD) if closes[j] > closes[j+1]]\n",
    "        down_closes = [closes[j] for j in range(i, i+MOMENTUM_PERIOD) if closes[j] < closes[j+1]]\n",
    "        try:\n",
    "            RS = (sum(up_closes) * len(down_closes)) / (sum(down_closes) * len(up_closes))\n",
    "        except ZeroDivisionError:\n",
    "            RS = 0\n",
    "        RSI = 100 - 100 / (1 + RS)\n",
    "        RSIs.append(RSI)\n",
    "    RSIs = np.array(RSIs)\n",
    "    company_data.append(RSIs)\n",
    "    \n",
    "    #Get Last Day Volumes (perhaps change to OBV)\n",
    "    volumes = company.T[-1][DAYS_AHEAD+1:company.shape[0]-LONG_MA_LENGTH+1]\n",
    "    company_data.append(volumes)\n",
    "    \n",
    "    #Get directions\n",
    "    directions = []\n",
    "    for i in range(DAYS_AHEAD, company.shape[0]-LONG_MA_LENGTH):\n",
    "        diff = closes[i-DAYS_AHEAD] - closes[i]\n",
    "        if diff > 0:\n",
    "            directions.append('up') #increase in price\n",
    "        else:\n",
    "            directions.append('down') #decrease in price\n",
    "    directions = np.array(directions)\n",
    "    company_data.append(directions)\n",
    "    \n",
    "    company_data = np.array(company_data).T\n",
    "    processed_data = np.vstack((processed_data, company_data))"
   ]
  },
  {
   "cell_type": "code",
   "execution_count": 330,
   "metadata": {},
   "outputs": [
    {
     "data": {
      "text/plain": [
       "array([['2014-03-21', 75.989998, 76.25, ..., 76.12428299999999,\n",
       "        67.315308, 93511600],\n",
       "       ['2014-03-24', 76.91714499999999, 77.214287, ...,\n",
       "        77.02714499999999, 68.113724, 88925200],\n",
       "       ['2014-03-25', 77.35714, 77.964287, ..., 77.855713, 68.846397,\n",
       "        70573300],\n",
       "       ...,\n",
       "       ['2019-03-19', 188.350006, 188.990005, ..., 186.529999,\n",
       "        186.529999, 31646400],\n",
       "       ['2019-03-20', 186.229996, 189.490005, ..., 188.16000400000001,\n",
       "        188.16000400000001, 31035200],\n",
       "       ['2019-03-21', 190.020004, 196.330002, ..., 195.08999599999999,\n",
       "        195.08999599999999, 50980100]], dtype=object)"
      ]
     },
     "execution_count": 330,
     "metadata": {},
     "output_type": "execute_result"
    }
   ],
   "source": [
    "data[0]"
   ]
  },
  {
   "cell_type": "code",
   "execution_count": 331,
   "metadata": {},
   "outputs": [
    {
     "data": {
      "text/plain": [
       "array([[95.31500013333333, -0.19433340000000499, 102.52133339999996, ...,\n",
       "        49.730133687102985, 56843000, 'down'],\n",
       "       [95.50933353333333, -0.18433356666666612, 102.73688897777777, ...,\n",
       "        49.69313006095122, 48511000, 'down'],\n",
       "       [95.6936671, -0.20133336666665969, 102.91766681111108, ...,\n",
       "        49.73408963387565, 39958000, 'down'],\n",
       "       ...,\n",
       "       [42771.666666666664, 33.33333333332848, 41953.333333333336, ...,\n",
       "        50.20592295651069, 8123384, 'up'],\n",
       "       [42738.333333333336, 56.66666666667152, 41967.22222222222, ...,\n",
       "        50.14227712808411, 9987090, 'up'],\n",
       "       [42681.666666666664, 80.0, 41974.444444444445, ...,\n",
       "        50.16351786932687, 9367454, 'up']], dtype=object)"
      ]
     },
     "execution_count": 331,
     "metadata": {},
     "output_type": "execute_result"
    }
   ],
   "source": [
    "processed_data"
   ]
  },
  {
   "cell_type": "markdown",
   "metadata": {},
   "source": [
    "***Scaling, Oversampling and Train Test Split***"
   ]
  },
  {
   "cell_type": "code",
   "execution_count": 332,
   "metadata": {},
   "outputs": [
    {
     "name": "stderr",
     "output_type": "stream",
     "text": [
      "/Library/Frameworks/Python.framework/Versions/3.5/lib/python3.5/site-packages/sklearn/utils/validation.py:595: DataConversionWarning: Data with input dtype object was converted to float64 by StandardScaler.\n",
      "  warnings.warn(msg, DataConversionWarning)\n",
      "/Library/Frameworks/Python.framework/Versions/3.5/lib/python3.5/site-packages/sklearn/utils/validation.py:595: DataConversionWarning: Data with input dtype object was converted to float64 by StandardScaler.\n",
      "  warnings.warn(msg, DataConversionWarning)\n"
     ]
    }
   ],
   "source": [
    "ys = processed_data.T[-1]\n",
    "xs = processed_data.T[:-1].T\n",
    "\n",
    "scaler = StandardScaler()\n",
    "xs = scaler.fit_transform(xs)\n",
    "\n",
    "smote = SMOTE(random_state = 1729)\n",
    "xs, ys = smote.fit_resample(xs, ys)\n",
    "\n",
    "train_xs, test_xs, train_ys, test_ys = train_test_split(xs, ys, test_size = 1/7, random_state = 1729)"
   ]
  },
  {
   "cell_type": "markdown",
   "metadata": {},
   "source": [
    "***Train Model***"
   ]
  },
  {
   "cell_type": "code",
   "execution_count": 333,
   "metadata": {},
   "outputs": [
    {
     "data": {
      "text/plain": [
       "SVC(C=10, cache_size=200, class_weight=None, coef0=0.0,\n",
       "  decision_function_shape='ovr', degree=3, gamma='scale', kernel='rbf',\n",
       "  max_iter=-1, probability=True, random_state=42, shrinking=True,\n",
       "  tol=0.001, verbose=False)"
      ]
     },
     "execution_count": 333,
     "metadata": {},
     "output_type": "execute_result"
    }
   ],
   "source": [
    "clf = svm.SVC(C = 10, gamma = 'scale', random_state = 42, probability = True)\n",
    "clf.fit(train_xs, train_ys)"
   ]
  },
  {
   "cell_type": "markdown",
   "metadata": {},
   "source": [
    "***Get Accuracy (current: accuracy = 71%, up: recall = 71%, precision = 72%, f1 = 71%, down: recall = 72%, precision = 71%, f1 = 71%)***"
   ]
  },
  {
   "cell_type": "code",
   "execution_count": 334,
   "metadata": {},
   "outputs": [
    {
     "name": "stdout",
     "output_type": "stream",
     "text": [
      "down pred: 727 up pred: 747\n",
      "down test: 733 up test: 741\n",
      "Out of a total of 1474 samples, 1052 were correct\n"
     ]
    }
   ],
   "source": [
    "pred = clf.predict(test_xs)\n",
    "total = test_ys.shape[0]\n",
    "correct = len([x for x in pred==test_ys if x==True])\n",
    "print('down pred:', len([i for i in pred if i == 'down']), 'up pred:', len([i for i in pred if i == 'up']))\n",
    "print('down test:', len([i for i in test_ys if i == 'down']), 'up test:', len([i for i in test_ys if i == 'up']))\n",
    "print(\"Out of a total of %d samples, %d were correct\" %(total, correct))"
   ]
  },
  {
   "cell_type": "markdown",
   "metadata": {},
   "source": [
    "***Plot Confusion Matrix***"
   ]
  },
  {
   "cell_type": "code",
   "execution_count": 335,
   "metadata": {},
   "outputs": [
    {
     "name": "stdout",
     "output_type": "stream",
     "text": [
      "Normalized confusion matrix\n",
      "[[0.70804911 0.29195089]\n",
      " [0.28070175 0.71929825]]\n"
     ]
    },
    {
     "data": {
      "image/png": "[encoded data removed]",
      "text/plain": [
       "<Figure size 432x288 with 2 Axes>"
      ]
     },
     "metadata": {
      "needs_background": "light"
     },
     "output_type": "display_data"
    }
   ],
   "source": [
    "def plot_confusion_matrix(cm, classes,\n",
    "                          normalize=False,\n",
    "                          title='Confusion matrix',\n",
    "                          cmap=plt.cm.Blues):\n",
    "    \"\"\"\n",
    "    This function prints and plots the confusion matrix.\n",
    "    Normalization can be applied by setting `normalize=True`.\n",
    "    \"\"\"\n",
    "    if normalize:\n",
    "        cm = cm.astype('float') / cm.sum(axis=1)[:, np.newaxis]\n",
    "        print(\"Normalized confusion matrix\")\n",
    "    else:\n",
    "        print('Confusion matrix, without normalization')\n",
    "\n",
    "    print(cm)\n",
    "\n",
    "    plt.imshow(cm, interpolation='nearest', cmap=cmap)\n",
    "    plt.title(title)\n",
    "    plt.colorbar()\n",
    "    tick_marks = np.arange(len(classes))\n",
    "    plt.xticks(tick_marks, classes, rotation=45)\n",
    "    plt.yticks(tick_marks, classes)\n",
    "\n",
    "    fmt = '.2f' if normalize else 'd'\n",
    "    thresh = cm.max() / 2.\n",
    "    for i, j in itertools.product(range(cm.shape[0]), range(cm.shape[1])):\n",
    "        plt.text(j, i, format(cm[i, j], fmt),\n",
    "                 horizontalalignment=\"center\",\n",
    "                 color=\"white\" if cm[i, j] > thresh else \"black\")\n",
    "\n",
    "    plt.ylabel('True label')\n",
    "    plt.xlabel('Predicted label')\n",
    "    plt.tight_layout()\n",
    "\n",
    "cnf_matrix = confusion_matrix(test_ys, pred)\n",
    "plt.figure()\n",
    "plot_confusion_matrix(cnf_matrix, classes=['up', 'down'], normalize=True)"
   ]
  },
  {
   "cell_type": "markdown",
   "metadata": {},
   "source": [
    "***Precision-Recall Curve***"
   ]
  },
  {
   "cell_type": "code",
   "execution_count": 336,
   "metadata": {},
   "outputs": [
    {
     "name": "stdout",
     "output_type": "stream",
     "text": [
      "Average precision-recall score: 0.72\n"
     ]
    },
    {
     "data": {
      "text/plain": [
       "Text(0.5,1,'2-class Precision-Recall curve: AP=0.72')"
      ]
     },
     "execution_count": 336,
     "metadata": {},
     "output_type": "execute_result"
    },
    {
     "data": {
      "image/png": "[encoded data removed]",
      "text/plain": [
       "<Figure size 432x288 with 1 Axes>"
      ]
     },
     "metadata": {
      "needs_background": "light"
     },
     "output_type": "display_data"
    }
   ],
   "source": [
    "y_score = clf.predict_proba(test_xs).T[1]\n",
    "average_precision = average_precision_score(test_ys, y_score, pos_label = 'up')\n",
    "print('Average precision-recall score: {0:0.2f}'.format(\n",
    "      average_precision))\n",
    "precision, recall, thresholds = precision_recall_curve(test_ys, y_score, pos_label = 'up')\n",
    "step_kwargs = ({'step': 'post'}\n",
    "               if 'step' in signature(plt.fill_between).parameters\n",
    "               else {})\n",
    "plt.step(recall, precision, color='b', alpha=0.2,\n",
    "         where='post')\n",
    "plt.fill_between(recall, precision, alpha=0.2, color='b', **step_kwargs)\n",
    "\n",
    "plt.xlabel('Recall')\n",
    "plt.ylabel('Precision')\n",
    "plt.ylim([0.0, 1.0])\n",
    "plt.xlim([0.0, 1.0])\n",
    "plt.title('2-class Precision-Recall curve: AP={0:0.2f}'.format(\n",
    "          average_precision))"
   ]
  },
  {
   "cell_type": "markdown",
   "metadata": {},
   "source": [
    "***Some Basic Stuff With Predicted Probabilities***"
   ]
  },
  {
   "cell_type": "code",
   "execution_count": 337,
   "metadata": {},
   "outputs": [
    {
     "data": {
      "text/plain": [
       "[(0.7762611609195426, 'up', 'up'),\n",
       " (0.4082336265713977, 'down', 'down'),\n",
       " (0.6779275734424685, 'up', 'up'),\n",
       " (0.8585143356255568, 'up', 'up'),\n",
       " (0.28042540013197986, 'down', 'down'),\n",
       " (0.7556461956385672, 'up', 'down'),\n",
       " (0.2545665127603067, 'down', 'down'),\n",
       " (0.6333683290984478, 'up', 'up'),\n",
       " (0.596042975038957, 'up', 'down'),\n",
       " (0.3078762722158832, 'down', 'down'),\n",
       " (0.5310790876731302, 'up', 'down'),\n",
       " (0.9152964947681436, 'up', 'up'),\n",
       " (0.5738326244605523, 'up', 'up'),\n",
       " (0.6395671027413995, 'up', 'up'),\n",
       " (0.25440835388438926, 'down', 'down'),\n",
       " (0.5149683341315154, 'up', 'up'),\n",
       " (0.6042092420024776, 'up', 'up'),\n",
       " (0.7331346928980276, 'up', 'up'),\n",
       " (0.36158694204649355, 'down', 'down'),\n",
       " (0.3283068153282917, 'down', 'down')]"
      ]
     },
     "execution_count": 337,
     "metadata": {},
     "output_type": "execute_result"
    }
   ],
   "source": [
    "#Predicted probability of upward movement, prediction and actual direction\n",
    "list(zip((clf.predict_proba(test_xs)).T[1][:20], (clf.predict(test_xs))[:20], test_ys[:20])) #remove semicolon to see values\n"
   ]
  },
  {
   "cell_type": "code",
   "execution_count": 338,
   "metadata": {},
   "outputs": [
    {
     "data": {
      "text/plain": [
       "(0.5065502862429613, 0.2132078401682585)"
      ]
     },
     "execution_count": 338,
     "metadata": {},
     "output_type": "execute_result"
    }
   ],
   "source": [
    "np.mean(probabilities), np.std(probabilities)"
   ]
  },
  {
   "cell_type": "code",
   "execution_count": null,
   "metadata": {},
   "outputs": [],
   "source": []
  },
  {
   "cell_type": "code",
   "execution_count": null,
   "metadata": {},
   "outputs": [],
   "source": []
  }
 ],
 "metadata": {
  "kernelspec": {
   "display_name": "Python 3",
   "language": "python",
   "name": "python3"
  },
  "language_info": {
   "codemirror_mode": {
    "name": "ipython",
    "version": 3
   },
   "file_extension": ".py",
   "mimetype": "text/x-python",
   "name": "python",
   "nbconvert_exporter": "python",
   "pygments_lexer": "ipython3",
   "version": "3.5.2"
  }
 },
 "nbformat": 4,
 "nbformat_minor": 2
}
