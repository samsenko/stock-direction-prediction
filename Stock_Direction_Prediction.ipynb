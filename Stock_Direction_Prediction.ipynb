{
 "cells": [
  {
   "cell_type": "markdown",
   "metadata": {},
   "source": [
    "***Import Modules***"
   ]
  },
  {
   "cell_type": "code",
   "execution_count": 1,
   "metadata": {},
   "outputs": [],
   "source": [
    "import pandas as pd\n",
    "import numpy as np\n",
    "from sklearn import svm\n",
    "from sklearn.metrics import confusion_matrix\n",
    "from sklearn.model_selection import train_test_split\n",
    "from sklearn.preprocessing import StandardScaler\n",
    "from imblearn.over_sampling import SMOTE, ADASYN\n",
    "import matplotlib.pyplot as plt\n",
    "import itertools\n",
    "import os"
   ]
  },
  {
   "cell_type": "markdown",
   "metadata": {},
   "source": [
    "***Load in data for various companies***"
   ]
  },
  {
   "cell_type": "code",
   "execution_count": 2,
   "metadata": {},
   "outputs": [],
   "source": [
    "#Companies: AAPL, GOOG, FB, IBM, BB, MSFT, SAMSUNG\n",
    "dataframes = [pd.read_csv('AAPL.csv'), pd.read_csv('GOOG.csv'), pd.read_csv('FB.csv'), pd.read_csv('IBM.csv'), pd.read_csv('BB.csv'), pd.read_csv('MSFT.csv'), pd.read_csv('SAMSUNG.csv')]\n",
    "data = [df.values for df in dataframes]"
   ]
  },
  {
   "cell_type": "markdown",
   "metadata": {},
   "source": [
    "***Feature engineering***"
   ]
  },
  {
   "cell_type": "code",
   "execution_count": 3,
   "metadata": {},
   "outputs": [],
   "source": [
    "#REQUIREMENTS: LONG_MA_LENGTH > SHORT_MA_LENGTH (Important Note: the inequality is strict)\n",
    "\n",
    "DAYS_AHEAD = 7\n",
    "SHORT_MA_LENGTH = 10\n",
    "LONG_MA_LENGTH = 50\n",
    "\n",
    "processed_data = np.array([]).reshape(0,6) #Second value equals number of features\n",
    "for company in data:\n",
    "    company_data = []\n",
    "    closes = (company.T)[4]\n",
    "    \n",
    "    #Get Short-Term Moving Averages\n",
    "    mas = []\n",
    "    for i in range(DAYS_AHEAD, company.shape[0]-LONG_MA_LENGTH+1):\n",
    "        ma = sum([closes[j] for j in range(i+1, i+SHORT_MA_LENGTH)])/SHORT_MA_LENGTH #average close of last SHORT_MA_LENGTH days\n",
    "        mas.append(ma)\n",
    "    mas = np.array(mas)\n",
    "    company_data.append(mas[:-1])\n",
    "    \n",
    "    #Get Changes in Short-Term Moving Average\n",
    "    delta_mas = []\n",
    "    for i in range(company.shape[0]-LONG_MA_LENGTH-DAYS_AHEAD):\n",
    "        delta_mas.append(mas[i]-mas[i+1]) #todays MA minus yesterdays MA\n",
    "    delta_mas = np.array(delta_mas)\n",
    "    company_data.append(delta_mas)\n",
    "    \n",
    "    #Get Long-Term Moving Averages\n",
    "    mas = []\n",
    "    for i in range(DAYS_AHEAD, company.shape[0]-LONG_MA_LENGTH+1):\n",
    "        ma = sum([closes[j] for j in range(i+1, i+LONG_MA_LENGTH)])/LONG_MA_LENGTH #average close of last SHORT_MA_LENGTH days\n",
    "        mas.append(ma)\n",
    "    mas = np.array(mas)\n",
    "    company_data.append(mas[:-1])\n",
    "    \n",
    "    #Get Changes in Long-Term Moving Average\n",
    "    delta_mas = []\n",
    "    for i in range(company.shape[0]-LONG_MA_LENGTH-DAYS_AHEAD):\n",
    "        delta_mas.append(mas[i]-mas[i+1]) #todays MA minus yesterdays MA\n",
    "    delta_mas = np.array(delta_mas)\n",
    "    company_data.append(delta_mas)\n",
    "    \n",
    "    #Get Last Day Volumes (perhaps change to OBV)\n",
    "    volumes = company.T[-1][DAYS_AHEAD+1:company.shape[0]-LONG_MA_LENGTH+1]\n",
    "    company_data.append(volumes)\n",
    "    \n",
    "    #Get directions\n",
    "    directions = []\n",
    "    for i in range(DAYS_AHEAD, company.shape[0]-LONG_MA_LENGTH):\n",
    "        diff = closes[i-DAYS_AHEAD] - closes[i]\n",
    "        if diff > 0:\n",
    "            directions.append('up') #increase in price\n",
    "        else:\n",
    "            directions.append('down') #decrease in price\n",
    "    directions = np.array(directions)\n",
    "    company_data.append(directions)\n",
    "    \n",
    "    company_data = np.array(company_data).T\n",
    "    processed_data = np.vstack((processed_data, company_data))"
   ]
  },
  {
   "cell_type": "code",
   "execution_count": 4,
   "metadata": {},
   "outputs": [
    {
     "data": {
      "text/plain": [
       "array([['2014-03-21', 75.989998, 76.25, ..., 76.12428299999999,\n",
       "        67.315308, 93511600],\n",
       "       ['2014-03-24', 76.91714499999999, 77.214287, ...,\n",
       "        77.02714499999999, 68.113724, 88925200],\n",
       "       ['2014-03-25', 77.35714, 77.964287, ..., 77.855713, 68.846397,\n",
       "        70573300],\n",
       "       ...,\n",
       "       ['2019-03-19', 188.350006, 188.990005, ..., 186.529999,\n",
       "        186.529999, 31646400],\n",
       "       ['2019-03-20', 186.229996, 189.490005, ..., 188.16000400000001,\n",
       "        188.16000400000001, 31035200],\n",
       "       ['2019-03-21', 190.020004, 196.330002, ..., 195.08999599999999,\n",
       "        195.08999599999999, 50980100]], dtype=object)"
      ]
     },
     "execution_count": 4,
     "metadata": {},
     "output_type": "execute_result"
    }
   ],
   "source": [
    "data[0]"
   ]
  },
  {
   "cell_type": "code",
   "execution_count": 5,
   "metadata": {},
   "outputs": [
    {
     "data": {
      "text/plain": [
       "array([[67.9308577, 0.351285500000003, 81.89891496000001,\n",
       "        -0.29565719999999374, 45105200, 'down'],\n",
       "       [67.5795722, 0.2825713999999948, 82.19457216, -0.2861999600000189,\n",
       "        40586000, 'down'],\n",
       "       [67.2970008, 0.09828570000001946, 82.48077212000003,\n",
       "        -0.32451415999997835, 68812800, 'up'],\n",
       "       ...,\n",
       "       [38535.0, 180.0, 40131.0, -55.0, 7538720, 'down'],\n",
       "       [38355.0, -45.0, 40186.0, -67.0, 9420664, 'up'],\n",
       "       [38400.0, -5.0, 40253.0, -85.0, 10769589, 'up']], dtype=object)"
      ]
     },
     "execution_count": 5,
     "metadata": {},
     "output_type": "execute_result"
    }
   ],
   "source": [
    "processed_data"
   ]
  },
  {
   "cell_type": "markdown",
   "metadata": {},
   "source": [
    "***Scaling, Oversampling and Train Test Split***"
   ]
  },
  {
   "cell_type": "code",
   "execution_count": 6,
   "metadata": {},
   "outputs": [
    {
     "name": "stderr",
     "output_type": "stream",
     "text": [
      "/Library/Frameworks/Python.framework/Versions/3.5/lib/python3.5/site-packages/sklearn/utils/validation.py:595: DataConversionWarning: Data with input dtype object was converted to float64 by StandardScaler.\n",
      "  warnings.warn(msg, DataConversionWarning)\n",
      "/Library/Frameworks/Python.framework/Versions/3.5/lib/python3.5/site-packages/sklearn/utils/validation.py:595: DataConversionWarning: Data with input dtype object was converted to float64 by StandardScaler.\n",
      "  warnings.warn(msg, DataConversionWarning)\n"
     ]
    }
   ],
   "source": [
    "ys = processed_data.T[-1]\n",
    "xs = processed_data.T[:-1].T\n",
    "\n",
    "scaler = StandardScaler()\n",
    "xs = scaler.fit_transform(xs)\n",
    "\n",
    "smote = SMOTE(random_state = 1729)\n",
    "xs, ys = smote.fit_resample(xs, ys)\n",
    "\n",
    "test_xs = xs[:int((1/7)*xs.shape[0])]\n",
    "test_ys = ys[:int((1/7)*xs.shape[0])]\n",
    "train_xs = xs[int((1/7)*xs.shape[0]):]\n",
    "train_ys = ys[int((1/7)*xs.shape[0]):]"
   ]
  },
  {
   "cell_type": "markdown",
   "metadata": {},
   "source": [
    "***Train Model***"
   ]
  },
  {
   "cell_type": "code",
   "execution_count": 7,
   "metadata": {},
   "outputs": [
    {
     "data": {
      "text/plain": [
       "SVC(C=13.5, cache_size=200, class_weight=None, coef0=0.0,\n",
       "  decision_function_shape='ovr', degree=3, gamma='scale', kernel='rbf',\n",
       "  max_iter=-1, probability=False, random_state=42, shrinking=True,\n",
       "  tol=0.001, verbose=False)"
      ]
     },
     "execution_count": 7,
     "metadata": {},
     "output_type": "execute_result"
    }
   ],
   "source": [
    "clf = svm.SVC(C = 13.5, gamma = 'scale', random_state = 42)\n",
    "clf.fit(train_xs, train_ys)"
   ]
  },
  {
   "cell_type": "markdown",
   "metadata": {},
   "source": [
    "***Get Accuracy (current: accuracy = 58%, recall = 60%, precision = 58%, f1 = 59%, true_negative = 56%)***"
   ]
  },
  {
   "cell_type": "code",
   "execution_count": 8,
   "metadata": {},
   "outputs": [
    {
     "name": "stdout",
     "output_type": "stream",
     "text": [
      "down pred: 692 up pred: 605\n",
      "down test: 726 up test: 571\n",
      "Out of a total of 1297 samples, 755 were correct\n"
     ]
    }
   ],
   "source": [
    "pred = clf.predict(test_xs)\n",
    "total = test_ys.shape[0]\n",
    "correct = len([x for x in pred==test_ys if x==True])\n",
    "print('down pred:', len([i for i in pred if i == 'down']), 'up pred:', len([i for i in pred if i == 'up']))\n",
    "print('down test:', len([i for i in test_ys if i == 'down']), 'up test:', len([i for i in test_ys if i == 'up']))\n",
    "print(\"Out of a total of %d samples, %d were correct\" %(total, correct))"
   ]
  },
  {
   "cell_type": "markdown",
   "metadata": {},
   "source": [
    "***Plot Confusion Matrix***"
   ]
  },
  {
   "cell_type": "code",
   "execution_count": 9,
   "metadata": {},
   "outputs": [
    {
     "name": "stdout",
     "output_type": "stream",
     "text": [
      "Normalized confusion matrix\n",
      "[[0.60330579 0.39669421]\n",
      " [0.44483363 0.55516637]]\n"
     ]
    },
    {
     "data": {
      "image/png": "[encoded data removed]",
      "text/plain": [
       "<Figure size 432x288 with 2 Axes>"
      ]
     },
     "metadata": {
      "needs_background": "light"
     },
     "output_type": "display_data"
    }
   ],
   "source": [
    "def plot_confusion_matrix(cm, classes,\n",
    "                          normalize=False,\n",
    "                          title='Confusion matrix',\n",
    "                          cmap=plt.cm.Blues):\n",
    "    \"\"\"\n",
    "    This function prints and plots the confusion matrix.\n",
    "    Normalization can be applied by setting `normalize=True`.\n",
    "    \"\"\"\n",
    "    if normalize:\n",
    "        cm = cm.astype('float') / cm.sum(axis=1)[:, np.newaxis]\n",
    "        print(\"Normalized confusion matrix\")\n",
    "    else:\n",
    "        print('Confusion matrix, without normalization')\n",
    "\n",
    "    print(cm)\n",
    "\n",
    "    plt.imshow(cm, interpolation='nearest', cmap=cmap)\n",
    "    plt.title(title)\n",
    "    plt.colorbar()\n",
    "    tick_marks = np.arange(len(classes))\n",
    "    plt.xticks(tick_marks, classes, rotation=45)\n",
    "    plt.yticks(tick_marks, classes)\n",
    "\n",
    "    fmt = '.2f' if normalize else 'd'\n",
    "    thresh = cm.max() / 2.\n",
    "    for i, j in itertools.product(range(cm.shape[0]), range(cm.shape[1])):\n",
    "        plt.text(j, i, format(cm[i, j], fmt),\n",
    "                 horizontalalignment=\"center\",\n",
    "                 color=\"white\" if cm[i, j] > thresh else \"black\")\n",
    "\n",
    "    plt.ylabel('True label')\n",
    "    plt.xlabel('Predicted label')\n",
    "    plt.tight_layout()\n",
    "\n",
    "cnf_matrix = confusion_matrix(test_ys, pred)\n",
    "plt.figure()\n",
    "plot_confusion_matrix(cnf_matrix, classes=['up', 'down'], normalize=True)"
   ]
  },
  {
   "cell_type": "code",
   "execution_count": null,
   "metadata": {},
   "outputs": [],
   "source": []
  }
 ],
 "metadata": {
  "kernelspec": {
   "display_name": "Python 3",
   "language": "python",
   "name": "python3"
  },
  "language_info": {
   "codemirror_mode": {
    "name": "ipython",
    "version": 3
   },
   "file_extension": ".py",
   "mimetype": "text/x-python",
   "name": "python",
   "nbconvert_exporter": "python",
   "pygments_lexer": "ipython3",
   "version": "3.5.2"
  }
 },
 "nbformat": 4,
 "nbformat_minor": 2
}
