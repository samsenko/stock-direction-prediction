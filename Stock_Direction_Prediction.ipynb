{
 "cells": [
  {
   "cell_type": "markdown",
   "metadata": {},
   "source": [
    "***Import Modules***"
   ]
  },
  {
   "cell_type": "code",
   "execution_count": 39,
   "metadata": {},
   "outputs": [],
   "source": [
    "import pandas as pd\n",
    "import numpy as np\n",
    "from pyts.decomposition import SSA\n",
    "from sklearn import svm\n",
    "from sklearn.decomposition import PCA\n",
    "from statsmodels.tsa.api import ExponentialSmoothing\n",
    "from sklearn.ensemble import RandomForestClassifier, GradientBoostingClassifier\n",
    "from sklearn.metrics import confusion_matrix\n",
    "from sklearn.model_selection import train_test_split\n",
    "from sklearn.preprocessing import StandardScaler\n",
    "from sklearn.metrics import precision_recall_curve\n",
    "from sklearn.utils.fixes import signature\n",
    "from sklearn.metrics import average_precision_score\n",
    "from scipy import stats\n",
    "from imblearn.over_sampling import SMOTE, ADASYN, RandomOverSampler\n",
    "import matplotlib.pyplot as plt\n",
    "import itertools\n",
    "import os"
   ]
  },
  {
   "cell_type": "markdown",
   "metadata": {},
   "source": [
    "***Load in data for various companies***"
   ]
  },
  {
   "cell_type": "code",
   "execution_count": 40,
   "metadata": {},
   "outputs": [],
   "source": [
    "#Companies: AAPL GOOG, FB, IBM, BB, MSFT, SAMSUNG\n",
    "dataframes = [pd.read_csv('AAPL.csv'), pd.read_csv('GOOG.csv'), pd.read_csv('FB.csv'), pd.read_csv('IBM.csv'), pd.read_csv('BB.csv'), pd.read_csv('MSFT.csv'), pd.read_csv('SAMSUNG.csv')]\n",
    "data = [df.values for df in dataframes]\n"
   ]
  },
  {
   "cell_type": "markdown",
   "metadata": {},
   "source": [
    "***An alternate approach: use many lag variables and reduce dimensions with PCA***"
   ]
  },
  {
   "cell_type": "code",
   "execution_count": 50,
   "metadata": {},
   "outputs": [
    {
     "name": "stdout",
     "output_type": "stream",
     "text": [
      "1.0000000000000002\n"
     ]
    }
   ],
   "source": [
    "#Short-term trading:\n",
    "#DAYS_AHEAD = 7\n",
    "#FEATURES = 10\n",
    "#MEAN_LENGTH = 2\n",
    "#JUMP = 1\n",
    "#n_components = 10\n",
    "\n",
    "#Mid-term trading:\n",
    "#DAYS_AHEAD = 90\n",
    "#FEATURES = 90\n",
    "#MEAN_LENGTH = 10\n",
    "#JUMP = 3\n",
    "#n_components = 10\n",
    "\n",
    "DAYS_AHEAD = 7\n",
    "FEATURES = 10\n",
    "MEAN_LENGTH = 2\n",
    "JUMP = 1\n",
    "\n",
    "complete_data = np.array([]).reshape((0, FEATURES // JUMP))\n",
    "labels = np.array([])\n",
    "\n",
    "company_indices = {'aapl':0, 'goog':1, 'fb':2, 'ibm':3, 'bb':4, 'msft':5, 'samsung':6}\n",
    "scalers = []\n",
    "\n",
    "#First process the first 80% of each company's data. This will be the train set.\n",
    "for company in data:\n",
    "    length = company.shape[0] - DAYS_AHEAD - FEATURES - MEAN_LENGTH\n",
    "    closes = (company.T)[4]\n",
    "    \n",
    "    #Smooth using running mean   \n",
    "    closes = np.convolve(closes, np.ones((MEAN_LENGTH,))/MEAN_LENGTH, mode='valid')\n",
    "    \n",
    "    company_data = []\n",
    "    for i in range(FEATURES+MEAN_LENGTH, int(0.8*length)+FEATURES):\n",
    "        company_data.append(closes[i - FEATURES : i : JUMP])\n",
    "    company_data = np.array(company_data)\n",
    "    scaler = StandardScaler()\n",
    "    company_data = scaler.fit_transform(company_data.astype(np.float))\n",
    "    complete_data = np.vstack((complete_data, company_data))\n",
    "    scalers.append(scaler)\n",
    "    \n",
    "    directions = []\n",
    "    for i in range(FEATURES+MEAN_LENGTH, int(0.8*length)+FEATURES):\n",
    "        diff = closes[i+DAYS_AHEAD] - closes[i]\n",
    "        if diff > 0:\n",
    "            directions.append('up') #increase in price\n",
    "        else:\n",
    "            directions.append('down') #decrease in price\n",
    "    directions = np.array(directions)\n",
    "    \n",
    "    labels = np.concatenate((labels, directions), axis = None)\n",
    "    \n",
    "#Now process the remaining 20% (test data)\n",
    "for company in data:\n",
    "    length = company.shape[0] - DAYS_AHEAD - FEATURES - MEAN_LENGTH\n",
    "    closes = (company.T)[4]\n",
    "    \n",
    "    #Smooth using running mean   \n",
    "    closes = np.convolve(closes, np.ones((MEAN_LENGTH,))/MEAN_LENGTH, mode='valid')\n",
    "    \n",
    "    company_data = []\n",
    "    for i in range(int(0.8*length)+FEATURES, (company.shape[0] - DAYS_AHEAD - MEAN_LENGTH - 1)):\n",
    "        company_data.append(closes[i - FEATURES : i : JUMP])\n",
    "    company_data = np.array(company_data)\n",
    "    scaler = StandardScaler()\n",
    "    company_data = scaler.fit_transform(company_data.astype(np.float))\n",
    "    complete_data = np.concatenate((complete_data, company_data))\n",
    "    \n",
    "    directions = []\n",
    "    for i in range(int(0.8*length)+FEATURES, (company.shape[0] - DAYS_AHEAD - MEAN_LENGTH - 1)):\n",
    "        diff = closes[i+DAYS_AHEAD] - closes[i]\n",
    "        if diff > 0:\n",
    "            directions.append('up') #increase in price\n",
    "        else:\n",
    "            directions.append('down') #decrease in price\n",
    "    directions = np.array(directions)\n",
    "    \n",
    "    labels = np.concatenate((labels, directions), axis = None)\n",
    "\n",
    "#Apply PCA\n",
    "pca = PCA(n_components = 10, random_state = 1729)\n",
    "transformed_data = pca.fit_transform(complete_data)\n",
    "print(np.sum(pca.explained_variance_ratio_))"
   ]
  },
  {
   "cell_type": "code",
   "execution_count": 51,
   "metadata": {},
   "outputs": [],
   "source": [
    "train_xs = transformed_data[:int(0.8*transformed_data.shape[0])]\n",
    "train_ys = labels[:int(0.8*transformed_data.shape[0])]\n",
    "\n",
    "test_xs = transformed_data[int(0.8*transformed_data.shape[0]):]\n",
    "test_ys = labels[int(0.8*transformed_data.shape[0]):]\n",
    "\n",
    "smote = SMOTE(random_state = 1729)\n",
    "train_xs, train_ys = smote.fit_resample(train_xs, train_ys)"
   ]
  },
  {
   "cell_type": "code",
   "execution_count": 52,
   "metadata": {},
   "outputs": [
    {
     "data": {
      "text/plain": [
       "SVC(C=5, cache_size=1000, class_weight=None, coef0=0.0,\n",
       "  decision_function_shape='ovr', degree=3, gamma='scale', kernel='rbf',\n",
       "  max_iter=-1, probability=True, random_state=42, shrinking=True,\n",
       "  tol=0.001, verbose=False)"
      ]
     },
     "execution_count": 52,
     "metadata": {},
     "output_type": "execute_result"
    }
   ],
   "source": [
    "MODEL = 'SVC'\n",
    "\n",
    "if MODEL == 'SVC':\n",
    "    clf = svm.SVC(C = 5, gamma = 'scale', kernel = 'rbf', random_state = 42, probability = True, cache_size = 1000)\n",
    "elif MODEL == 'GBC':\n",
    "    clf = GradientBoostingClassifier(learning_rate = 0.01, n_estimators = 1000, random_state = 42)\n",
    "\n",
    "clf.fit(train_xs, train_ys)\n"
   ]
  },
  {
   "cell_type": "markdown",
   "metadata": {},
   "source": [
    "***Confusion Matrix and Accuracy***"
   ]
  },
  {
   "cell_type": "code",
   "execution_count": 53,
   "metadata": {},
   "outputs": [],
   "source": [
    "def plot_confusion_matrix(cm, classes,\n",
    "                          normalize=False,\n",
    "                          title='Confusion matrix',\n",
    "                          cmap=plt.cm.Blues):\n",
    "    \"\"\"\n",
    "    This function prints and plots the confusion matrix.\n",
    "    Normalization can be applied by setting `normalize=True`.\n",
    "    \"\"\"\n",
    "    if normalize:\n",
    "        cm = cm.astype('float') / cm.sum(axis=1)[:, np.newaxis]\n",
    "        print(\"Normalized confusion matrix\")\n",
    "    else:\n",
    "        print('Confusion matrix, without normalization')\n",
    "\n",
    "    print(cm)\n",
    "\n",
    "    plt.imshow(cm, interpolation='nearest', cmap=cmap)\n",
    "    plt.title(title)\n",
    "    plt.colorbar()\n",
    "    tick_marks = np.arange(len(classes))\n",
    "    plt.xticks(tick_marks, classes, rotation=45)\n",
    "    plt.yticks(tick_marks, classes)\n",
    "\n",
    "    fmt = '.2f' if normalize else 'd'\n",
    "    thresh = cm.max() / 2.\n",
    "    for i, j in itertools.product(range(cm.shape[0]), range(cm.shape[1])):\n",
    "        plt.text(j, i, format(cm[i, j], fmt),\n",
    "                 horizontalalignment=\"center\",\n",
    "                 color=\"white\" if cm[i, j] > thresh else \"black\")\n",
    "\n",
    "    plt.ylabel('True label')\n",
    "    plt.xlabel('Predicted label')\n",
    "    plt.tight_layout()"
   ]
  },
  {
   "cell_type": "code",
   "execution_count": 54,
   "metadata": {},
   "outputs": [
    {
     "name": "stdout",
     "output_type": "stream",
     "text": [
      "down pred: 853 up pred: 866\n",
      "down test: 780 up test: 939\n",
      "Out of a total of 1719 samples, 954 were correct\n",
      "Normalized confusion matrix\n",
      "[[0.55641026 0.44358974]\n",
      " [0.44621938 0.55378062]]\n"
     ]
    },
    {
     "data": {
      "image/png": "[encoded data removed]",
      "text/plain": [
       "<Figure size 432x288 with 2 Axes>"
      ]
     },
     "metadata": {
      "needs_background": "light"
     },
     "output_type": "display_data"
    }
   ],
   "source": [
    "pred = clf.predict(test_xs)\n",
    "total = test_ys.shape[0]\n",
    "correct = len([x for x in pred==test_ys if x==True])\n",
    "print('down pred:', len([i for i in pred if i == 'down']), 'up pred:', len([i for i in pred if i == 'up']))\n",
    "print('down test:', len([i for i in test_ys if i == 'down']), 'up test:', len([i for i in test_ys if i == 'up']))\n",
    "print(\"Out of a total of %d samples, %d were correct\" %(total, correct))\n",
    "cnf_matrix = confusion_matrix(test_ys, pred)\n",
    "plt.figure()\n",
    "plot_confusion_matrix(cnf_matrix, classes=['up', 'down'], normalize=True)"
   ]
  },
  {
   "cell_type": "markdown",
   "metadata": {},
   "source": [
    "***Precision Recall Curve***"
   ]
  },
  {
   "cell_type": "code",
   "execution_count": 55,
   "metadata": {},
   "outputs": [
    {
     "name": "stdout",
     "output_type": "stream",
     "text": [
      "Average precision-recall score: 0.61\n"
     ]
    },
    {
     "data": {
      "text/plain": [
       "Text(0.5,1,'2-class Precision-Recall curve: AP=0.61')"
      ]
     },
     "execution_count": 55,
     "metadata": {},
     "output_type": "execute_result"
    },
    {
     "data": {
      "image/png": "[encoded data removed]",
      "text/plain": [
       "<Figure size 432x288 with 1 Axes>"
      ]
     },
     "metadata": {
      "needs_background": "light"
     },
     "output_type": "display_data"
    }
   ],
   "source": [
    "y_score = clf.predict_proba(test_xs).T[1]\n",
    "average_precision = average_precision_score(test_ys, y_score, pos_label = 'up')\n",
    "print('Average precision-recall score: {0:0.2f}'.format(\n",
    "      average_precision))\n",
    "precision, recall, thresholds = precision_recall_curve(test_ys, y_score, pos_label = 'up')\n",
    "step_kwargs = ({'step': 'post'}\n",
    "               if 'step' in signature(plt.fill_between).parameters\n",
    "               else {})\n",
    "plt.step(recall, precision, color='b', alpha=0.2,\n",
    "         where='post')\n",
    "plt.fill_between(recall, precision, alpha=0.2, color='b', **step_kwargs)\n",
    "\n",
    "plt.xlabel('Recall')\n",
    "plt.ylabel('Precision')\n",
    "plt.ylim([0.0, 1.0])\n",
    "plt.xlim([0.0, 1.0])\n",
    "plt.title('2-class Precision-Recall curve: AP={0:0.2f}'.format(\n",
    "          average_precision))"
   ]
  },
  {
   "cell_type": "code",
   "execution_count": 56,
   "metadata": {},
   "outputs": [
    {
     "data": {
      "text/plain": [
       "(0.5125128331519699, 0.05682749621587152)"
      ]
     },
     "execution_count": 56,
     "metadata": {},
     "output_type": "execute_result"
    }
   ],
   "source": [
    "probabilities = clf.predict_proba(test_xs).T[1]\n",
    "np.mean(probabilities), np.std(probabilities)"
   ]
  },
  {
   "cell_type": "markdown",
   "metadata": {},
   "source": [
    "***Statistical Tests of Model Performance***"
   ]
  },
  {
   "cell_type": "code",
   "execution_count": 57,
   "metadata": {},
   "outputs": [
    {
     "name": "stdout",
     "output_type": "stream",
     "text": [
      "result for up precisions against always up: KruskalResult(statistic=0.4102564102564159, pvalue=0.5218393903336124)\n",
      "result for up precisions against random: KruskalResult(statistic=8.307692307692314, pvalue=0.003947751856903446)\n",
      "result for up precisions against trend: KruskalResult(statistic=0.1025641025641093, pvalue=0.7487740417065392)\n",
      " \n",
      "result for down precisions against always down: KruskalResult(statistic=4.333333333333336, pvalue=0.0373729883406513)\n",
      "result for down precisions against random: KruskalResult(statistic=3.6923076923076934, pvalue=0.054663935891675085)\n",
      "result for down precisions against trend: KruskalResult(statistic=0.0, pvalue=1.0)\n",
      " \n",
      "*********************************************************************************************************************\n",
      " \n",
      "result for up precisions against always up: KruskalResult(statistic=0.4102564102564159, pvalue=0.5218393903336124)\n",
      "result for up precisions against random: KruskalResult(statistic=8.307692307692314, pvalue=0.003947751856903446)\n",
      "result for up precisions against trend: KruskalResult(statistic=2.564102564102569, pvalue=0.10931457620866666)\n",
      " \n",
      "result for down precisions against always down: KruskalResult(statistic=8.307692307692314, pvalue=0.003947751856903446)\n",
      "result for down precisions against random: KruskalResult(statistic=7.410256410256409, pvalue=0.006485307970671373)\n",
      "result for down precisions against trend: KruskalResult(statistic=2.3222222222222273, pvalue=0.12753770929748695)\n"
     ]
    }
   ],
   "source": [
    "#Statistical tests for mid-term trading\n",
    "up_prec_random = np.array([0.5/1.01, 0.49, 0.54/1.04, 0.55/1.05, 0.52/1.02, 0.5])\n",
    "up_prec_always_up = np.array([843/1332, 845/1333, 639/1332, 1165/1333, 1134/1332, 471/1333])\n",
    "up_prec_trend = np.array([0.67/1.08, 0.61/1.06, 0.58/0.96, 0.74/1.21, 0.63/1.08, 0.57/0.9])\n",
    "up_prec_svc = np.array([0.71/1.13, 0.31/0.54, 0.55/0.93, 0.54/0.95, 0.61, 0.74/1.03])\n",
    "print(\"result for up precisions against always up:\", stats.kruskal(up_prec_always_up, up_prec_svc)) \n",
    "print(\"result for up precisions against random:\", stats.kruskal(up_prec_random, up_prec_svc)) \n",
    "print(\"result for up precisions against trend:\", stats.kruskal(up_prec_trend, up_prec_svc)) \n",
    "print(\" \")\n",
    "\n",
    "down_prec_random = np.array([0.5/0.99, 0.51, 0.5/0.96, 0.5/0.95, 0.5/0.98, 0.5])\n",
    "down_prec_always_down = np.array([489/1332, 488/1333, 693/1332, 168/1333, 198/1332, 862/1333])\n",
    "down_prec_trend = np.array([0.58/0.84, 0.77/1.46, 0.62/1.04, 0.53/0.79, 0.55/0.92, 0.67/1.1])\n",
    "down_prec_svc = np.array([0.6/0.84, 0.77/1.56, 0.62/1.07, 0.59/1.05, 0.61, 0.71/0.97])\n",
    "print(\"result for down precisions against always down:\", stats.kruskal(down_prec_always_down, down_prec_svc)) \n",
    "print(\"result for down precisions against random:\", stats.kruskal(down_prec_random, down_prec_svc)) \n",
    "print(\"result for down precisions against trend:\", stats.kruskal(down_prec_trend, down_prec_svc)) \n",
    "print(\" \")\n",
    "print(\"*********************************************************************************************************************\")\n",
    "print(\" \")\n",
    "\n",
    "#Statistical tests for short-term trading\n",
    "up_prec_random = np.array([0.49/0.99, 0.5, 0.52/1.05, 0.5/1.01, 0.51/0.98, 0.51/1.01])\n",
    "up_prec_always_up = np.array([850/1577, 829/1578, 786/1577, 941/1578, 904/1577, 862/1578])\n",
    "up_prec_trend = [0.53, 0.53/0.99, 0.49/0.95, 0.57/1.01, 0.53/1.01, 0.56/1.07]\n",
    "up_prec_svc = np.array([0.57/1.04, 0.61/1.06, 0.61/1.05, 0.46/0.88, 0.54/1.01, 0.46/0.8])\n",
    "print(\"result for up precisions against always up:\", stats.kruskal(up_prec_always_up, up_prec_svc)) \n",
    "print(\"result for up precisions against random:\", stats.kruskal(up_prec_random, up_prec_svc)) \n",
    "print(\"result for up precisions against trend:\", stats.kruskal(up_prec_trend, up_prec_svc)) \n",
    "print(\" \")\n",
    "\n",
    "down_prec_random = np.array([0.49/1.01, 0.5, 0.47/0.95, 0.49/0.99, 0.53/1.02, 0.5/0.99])\n",
    "down_prec_always_down = np.array([727/1577, 749/1578, 791/1577, 637/1578, 673/1577, 716/1578])\n",
    "down_prec_trend = [0.53, 0.54/1.01, 0.54/1.05, 0.56/0.99, 0.53/0.99, 0.49/0.93]\n",
    "down_prec_svc = np.array([0.53/0.96, 0.55/0.94, 0.56/0.95, 0.58/1.12, 0.53/0.99, 0.66/1.2])\n",
    "print(\"result for down precisions against always down:\", stats.kruskal(down_prec_always_down, down_prec_svc)) \n",
    "print(\"result for down precisions against random:\", stats.kruskal(down_prec_random, down_prec_svc)) \n",
    "print(\"result for down precisions against trend:\", stats.kruskal(down_prec_trend, down_prec_svc)) \n"
   ]
  },
  {
   "cell_type": "markdown",
   "metadata": {},
   "source": [
    "***Function to make prediction***"
   ]
  },
  {
   "cell_type": "code",
   "execution_count": 86,
   "metadata": {},
   "outputs": [],
   "source": [
    "def predict(closes, company):\n",
    "    '''takes FEATURES+MEAN_LENGTH-1 days worth of closes (in a numpy array with the earliest closes first) \n",
    "    and the company they are from (one of aapl, goog, fb, ibm, bb, msft, samsung) and predicts the direction \n",
    "    over the next DAYS_AHEAD days.'''\n",
    "  \n",
    "    closes = np.convolve(closes, np.ones((MEAN_LENGTH,))/MEAN_LENGTH, mode='valid')\n",
    "    engineered_data = np.array([closes[::JUMP]])\n",
    "    scaler = scalers[company_indices[company]]\n",
    "    engineered_data = scaler.transform(engineered_data.astype(np.float))\n",
    "    engineered_data = pca.transform(engineered_data)\n",
    "    pred = clf.predict(engineered_data)[0]\n",
    "    return pred\n"
   ]
  },
  {
   "cell_type": "code",
   "execution_count": 88,
   "metadata": {},
   "outputs": [
    {
     "data": {
      "text/plain": [
       "'down'"
      ]
     },
     "execution_count": 88,
     "metadata": {},
     "output_type": "execute_result"
    }
   ],
   "source": [
    "#Example for short-term trading\n",
    "predict(np.array([164.13, 162.81, 161.45, 162.29, 167.37, 171.26, 172.51, 169.13, 169.60, 172.07, 171.92]), 'fb')"
   ]
  },
  {
   "cell_type": "code",
   "execution_count": null,
   "metadata": {},
   "outputs": [],
   "source": []
  }
 ],
 "metadata": {
  "kernelspec": {
   "display_name": "Python 3",
   "language": "python",
   "name": "python3"
  },
  "language_info": {
   "codemirror_mode": {
    "name": "ipython",
    "version": 3
   },
   "file_extension": ".py",
   "mimetype": "text/x-python",
   "name": "python",
   "nbconvert_exporter": "python",
   "pygments_lexer": "ipython3",
   "version": "3.5.2"
  }
 },
 "nbformat": 4,
 "nbformat_minor": 2
}
